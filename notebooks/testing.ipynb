{
 "cells": [
  {
   "cell_type": "code",
   "execution_count": 1,
   "metadata": {},
   "outputs": [],
   "source": [
    "import kinkajou as kj"
   ]
  },
  {
   "cell_type": "code",
   "execution_count": 2,
   "metadata": {},
   "outputs": [],
   "source": [
    "data = kj.cage_csv('../data/us_avg_tuition.csv',encoding=\"utf-8-sig\")"
   ]
  },
  {
   "cell_type": "code",
   "execution_count": 3,
   "metadata": {},
   "outputs": [
    {
     "name": "stdout",
     "output_type": "stream",
     "text": [
      "['State', '2004-05', '2005-06', '2006-07', '2007-08', '2008-09', '2009-10', '2010-11', '2011-12', '2012-13', '2013-14', '2014-15', '2015-16']\n"
     ]
    }
   ],
   "source": [
    "data.header = [x.strip() for x in data.header]\n",
    "print(list(data.header))"
   ]
  },
  {
   "cell_type": "code",
   "execution_count": 4,
   "metadata": {},
   "outputs": [
    {
     "name": "stdout",
     "output_type": "stream",
     "text": [
      "['$5,683 ', '$4,328 ', '$5,138 ', '$5,772 ', '$5,286 ']\n"
     ]
    }
   ],
   "source": [
    "print(list(data.column(1))[:5])"
   ]
  },
  {
   "cell_type": "code",
   "execution_count": 5,
   "metadata": {},
   "outputs": [],
   "source": [
    "def to_int(original):\n",
    "    res = original.strip(\"$ \").replace(\",\",\"\")\n",
    "    return int(res)"
   ]
  },
  {
   "cell_type": "code",
   "execution_count": 6,
   "metadata": {},
   "outputs": [],
   "source": [
    "# data.modify_column(1,to_int)\n",
    "# data.modify_column('2005-06', to_int)"
   ]
  },
  {
   "cell_type": "code",
   "execution_count": 7,
   "metadata": {},
   "outputs": [
    {
     "name": "stdout",
     "output_type": "stream",
     "text": [
      "['State', '2004-05', '2005-06', '2006-07', '2007-08', '2008-09', '2009-10', '2010-11', '2011-12', '2012-13', '2013-14', '2014-15', '2015-16']\n",
      "['Alabama', '$5,683 ', '$5,841 ', '$5,753 ', '$6,008 ', '$6,475 ', '$7,189 ', '$8,071 ', '$8,452 ', '$9,098 ', '$9,359 ', '$9,496 ', '$9,751 ']\n",
      "['Alaska', '$4,328 ', '$4,633 ', '$4,919 ', '$5,070 ', '$5,075 ', '$5,455 ', '$5,759 ', '$5,762 ', '$6,026 ', '$6,012 ', '$6,149 ', '$6,571 ']\n"
     ]
    }
   ],
   "source": [
    "data.head(2)"
   ]
  },
  {
   "cell_type": "code",
   "execution_count": 8,
   "metadata": {},
   "outputs": [],
   "source": [
    "for x in range(1,len(list(data.header))):\n",
    "    data.modify_column(x,to_int)"
   ]
  },
  {
   "cell_type": "code",
   "execution_count": 9,
   "metadata": {},
   "outputs": [
    {
     "name": "stdout",
     "output_type": "stream",
     "text": [
      "['State', '2004-05', '2005-06', '2006-07', '2007-08', '2008-09', '2009-10', '2010-11', '2011-12', '2012-13', '2013-14', '2014-15', '2015-16']\n",
      "['Wisconsin', 6575, 6871, 7086, 7348, 7373, 7945, 8441, 8659, 9052, 8931, 8785, 8815]\n",
      "['Wyoming', 4086, 4188, 4122, 4072, 3929, 4129, 4299, 4357, 4456, 4499, 4654, 4891]\n"
     ]
    }
   ],
   "source": [
    "data.tail(2)"
   ]
  },
  {
   "cell_type": "code",
   "execution_count": null,
   "metadata": {},
   "outputs": [],
   "source": []
  },
  {
   "cell_type": "code",
   "execution_count": null,
   "metadata": {},
   "outputs": [],
   "source": []
  },
  {
   "cell_type": "code",
   "execution_count": null,
   "metadata": {},
   "outputs": [],
   "source": []
  },
  {
   "cell_type": "code",
   "execution_count": null,
   "metadata": {},
   "outputs": [],
   "source": []
  },
  {
   "cell_type": "code",
   "execution_count": null,
   "metadata": {},
   "outputs": [],
   "source": []
  },
  {
   "cell_type": "code",
   "execution_count": null,
   "metadata": {},
   "outputs": [],
   "source": []
  }
 ],
 "metadata": {
  "kernelspec": {
   "display_name": "Python 3.10.6 ('Kinkajou')",
   "language": "python",
   "name": "python3"
  },
  "language_info": {
   "codemirror_mode": {
    "name": "ipython",
    "version": 3
   },
   "file_extension": ".py",
   "mimetype": "text/x-python",
   "name": "python",
   "nbconvert_exporter": "python",
   "pygments_lexer": "ipython3",
   "version": "3.10.6"
  },
  "orig_nbformat": 4,
  "vscode": {
   "interpreter": {
    "hash": "a05f41e4c7ffb457a7c7220a3eeba85b1d7941ebdbf6299862ab022d1f7f2e20"
   }
  }
 },
 "nbformat": 4,
 "nbformat_minor": 2
}
