{
 "cells": [
  {
   "cell_type": "code",
   "execution_count": 1,
   "metadata": {},
   "outputs": [],
   "source": [
    "import kinkajou as kj"
   ]
  },
  {
   "cell_type": "code",
   "execution_count": 2,
   "metadata": {},
   "outputs": [],
   "source": [
    "data = kj.cage_csv('../data/us_avg_tuition.csv',encoding=\"utf-8-sig\")"
   ]
  },
  {
   "cell_type": "code",
   "execution_count": 3,
   "metadata": {},
   "outputs": [
    {
     "name": "stdout",
     "output_type": "stream",
     "text": [
      "['State', '2004-05', '2005-06', '2006-07', '2007-08', '2008-09', '2009-10', '2010-11', '2011-12', '2012-13', '2013-14', '2014-15', '2015-16']\n"
     ]
    }
   ],
   "source": [
    "data.header = [x.strip() for x in data.header]\n",
    "print(list(data.header))"
   ]
  },
  {
   "cell_type": "code",
   "execution_count": 4,
   "metadata": {},
   "outputs": [
    {
     "name": "stdout",
     "output_type": "stream",
     "text": [
      "['$5,683 ', '$4,328 ', '$5,138 ', '$5,772 ', '$5,286 ']\n"
     ]
    }
   ],
   "source": [
    "print(list(data.column(1))[:5])"
   ]
  },
  {
   "cell_type": "code",
   "execution_count": 5,
   "metadata": {},
   "outputs": [],
   "source": [
    "def to_int(original):\n",
    "    res = original.strip(\"$ \").replace(\",\",\"\")\n",
    "    return int(res)"
   ]
  },
  {
   "cell_type": "code",
   "execution_count": 6,
   "metadata": {},
   "outputs": [],
   "source": [
    "# data.modify_column(1,to_int)\n",
    "# data.modify_column('2005-06', to_int)"
   ]
  },
  {
   "cell_type": "code",
   "execution_count": 7,
   "metadata": {},
   "outputs": [
    {
     "name": "stdout",
     "output_type": "stream",
     "text": [
      "['State', '2004-05', '2005-06', '2006-07', '2007-08', '2008-09', '2009-10', '2010-11', '2011-12', '2012-13', '2013-14', '2014-15', '2015-16']\n",
      "['Alabama', '$5,683 ', '$5,841 ', '$5,753 ', '$6,008 ', '$6,475 ', '$7,189 ', '$8,071 ', '$8,452 ', '$9,098 ', '$9,359 ', '$9,496 ', '$9,751 ']\n",
      "['Alaska', '$4,328 ', '$4,633 ', '$4,919 ', '$5,070 ', '$5,075 ', '$5,455 ', '$5,759 ', '$5,762 ', '$6,026 ', '$6,012 ', '$6,149 ', '$6,571 ']\n"
     ]
    }
   ],
   "source": [
    "data.head(2)"
   ]
  },
  {
   "cell_type": "code",
   "execution_count": 8,
   "metadata": {},
   "outputs": [],
   "source": [
    "for x in range(1,len(list(data.header))):\n",
    "    data.modify_column(x,to_int)"
   ]
  },
  {
   "cell_type": "code",
   "execution_count": 9,
   "metadata": {},
   "outputs": [
    {
     "name": "stdout",
     "output_type": "stream",
     "text": [
      "['State', '2004-05', '2005-06', '2006-07', '2007-08', '2008-09', '2009-10', '2010-11', '2011-12', '2012-13', '2013-14', '2014-15', '2015-16']\n",
      "['Wisconsin', 6575, 6871, 7086, 7348, 7373, 7945, 8441, 8659, 9052, 8931, 8785, 8815]\n",
      "['Wyoming', 4086, 4188, 4122, 4072, 3929, 4129, 4299, 4357, 4456, 4499, 4654, 4891]\n"
     ]
    }
   ],
   "source": [
    "data.tail(2)"
   ]
  },
  {
   "cell_type": "code",
   "execution_count": 10,
   "metadata": {},
   "outputs": [
    {
     "data": {
      "text/plain": [
       "[5683,\n",
       " 4328,\n",
       " 5138,\n",
       " 5772,\n",
       " 5286,\n",
       " 4704,\n",
       " 7984,\n",
       " 8353,\n",
       " 3848,\n",
       " 4298,\n",
       " 4267,\n",
       " 4525,\n",
       " 8183,\n",
       " 7368,\n",
       " 6813,\n",
       " 5345,\n",
       " 5640,\n",
       " 4453,\n",
       " 7058,\n",
       " 8531,\n",
       " 8863,\n",
       " 7931,\n",
       " 8144,\n",
       " 5029,\n",
       " 7477,\n",
       " 5630,\n",
       " 5947,\n",
       " 3621,\n",
       " 10188,\n",
       " 10054,\n",
       " 4926,\n",
       " 6235,\n",
       " 4493,\n",
       " 5804,\n",
       " 10378,\n",
       " 4454,\n",
       " 6579,\n",
       " 10394,\n",
       " 7476,\n",
       " 8330,\n",
       " 5479,\n",
       " 5426,\n",
       " 6395,\n",
       " 4125,\n",
       " 11067,\n",
       " 7030,\n",
       " 6192,\n",
       " 4575,\n",
       " 6575,\n",
       " 4086]"
      ]
     },
     "execution_count": 10,
     "metadata": {},
     "output_type": "execute_result"
    }
   ],
   "source": [
    "list(data.column(1))"
   ]
  },
  {
   "cell_type": "code",
   "execution_count": 11,
   "metadata": {},
   "outputs": [
    {
     "data": {
      "text/plain": [
       "['Alaska',\n",
       " 4328,\n",
       " 4633,\n",
       " 4919,\n",
       " 5070,\n",
       " 5075,\n",
       " 5455,\n",
       " 5759,\n",
       " 5762,\n",
       " 6026,\n",
       " 6012,\n",
       " 6149,\n",
       " 6571]"
      ]
     },
     "execution_count": 11,
     "metadata": {},
     "output_type": "execute_result"
    }
   ],
   "source": [
    "list(data.row(1))"
   ]
  },
  {
   "cell_type": "code",
   "execution_count": 12,
   "metadata": {},
   "outputs": [
    {
     "data": {
      "text/plain": [
       "1"
      ]
     },
     "execution_count": 12,
     "metadata": {},
     "output_type": "execute_result"
    }
   ],
   "source": [
    "list(data.column(0)).index('Alaska')"
   ]
  },
  {
   "cell_type": "code",
   "execution_count": 13,
   "metadata": {},
   "outputs": [
    {
     "ename": "ValueError",
     "evalue": "'xxx' is not in list",
     "output_type": "error",
     "traceback": [
      "\u001b[1;31m---------------------------------------------------------------------------\u001b[0m",
      "\u001b[1;31mValueError\u001b[0m                                Traceback (most recent call last)",
      "\u001b[1;32md:\\SCHOOL\\INF405\\Assignment Two\\Kinkajou\\notebooks\\testing.ipynb Cell 13\u001b[0m in \u001b[0;36m<cell line: 1>\u001b[1;34m()\u001b[0m\n\u001b[1;32m----> <a href='vscode-notebook-cell:/d%3A/SCHOOL/INF405/Assignment%20Two/Kinkajou/notebooks/testing.ipynb#X15sZmlsZQ%3D%3D?line=0'>1</a>\u001b[0m \u001b[39mlist\u001b[39m(data\u001b[39m.\u001b[39;49mcolumn(\u001b[39m'\u001b[39;49m\u001b[39mxxx\u001b[39;49m\u001b[39m'\u001b[39;49m))\n",
      "File \u001b[1;32md:\\school\\inf405\\assignment two\\kinkajou\\kinkajou\\objects.py:64\u001b[0m, in \u001b[0;36mDataCage.column\u001b[1;34m(self, column)\u001b[0m\n\u001b[0;32m     55\u001b[0m \u001b[39m\"\"\"Yields iterable object containing all values from a column\u001b[39;00m\n\u001b[0;32m     56\u001b[0m \n\u001b[0;32m     57\u001b[0m \u001b[39mArgs:\u001b[39;00m\n\u001b[1;32m   (...)\u001b[0m\n\u001b[0;32m     61\u001b[0m \u001b[39m    Iterable: iterable generator of values from column\u001b[39;00m\n\u001b[0;32m     62\u001b[0m \u001b[39m\"\"\"\u001b[39;00m\n\u001b[0;32m     63\u001b[0m \u001b[39mif\u001b[39;00m \u001b[39misinstance\u001b[39m(column, \u001b[39mstr\u001b[39m):\n\u001b[1;32m---> 64\u001b[0m     column \u001b[39m=\u001b[39m \u001b[39mself\u001b[39;49m\u001b[39m.\u001b[39;49m_header\u001b[39m.\u001b[39;49mindex(column)\n\u001b[0;32m     65\u001b[0m \u001b[39m# TODO: Add exception handling when column header string is not valid (column)\u001b[39;00m\n\u001b[0;32m     67\u001b[0m \u001b[39mreturn\u001b[39;00m (row[column] \u001b[39mfor\u001b[39;00m row \u001b[39min\u001b[39;00m \u001b[39mself\u001b[39m\u001b[39m.\u001b[39m_data)\n",
      "\u001b[1;31mValueError\u001b[0m: 'xxx' is not in list"
     ]
    }
   ],
   "source": [
    "list(data.column('xxx'))"
   ]
  },
  {
   "cell_type": "code",
   "execution_count": 15,
   "metadata": {},
   "outputs": [
    {
     "name": "stdout",
     "output_type": "stream",
     "text": [
      "['New York', 6235, 6114, 5912, 5816, 5556, 6361, 6342, 6554, 6836, 7076, 7306, 7644]\n"
     ]
    }
   ],
   "source": [
    "r = data.filter((lambda x: x[0] == 'New York'))\n",
    "for x in r:\n",
    "    print(x)"
   ]
  },
  {
   "cell_type": "code",
   "execution_count": 16,
   "metadata": {},
   "outputs": [
    {
     "name": "stdout",
     "output_type": "stream",
     "text": [
      "['Florida', 3848, 3924, 3888, 3879, 4150, 4783, 5511, 5941, 6495, 6452, 6345, 6360]\n",
      "['Nevada', 3621, 3687, 4275, 4523, 4771, 5035, 5822, 6384, 6656, 6525, 6438, 6667]\n"
     ]
    }
   ],
   "source": [
    "r2 = data.filter((lambda x: x[1] < 4000))\n",
    "for x in r2:\n",
    "    print(x)"
   ]
  },
  {
   "cell_type": "code",
   "execution_count": 17,
   "metadata": {},
   "outputs": [
    {
     "name": "stdout",
     "output_type": "stream",
     "text": [
      "['Column_0', 'Column_1', 'Column_2', 'Column_3', 'Column_4', 'Column_5', 'Column_6', 'Column_7', 'Column_8', 'Column_9', 'Column_10', 'Column_11', 'Column_12']\n"
     ]
    }
   ],
   "source": [
    "data2 = kj.cage_csv('../data/us_avg_tuition.csv',encoding=\"utf-8-sig\",has_header=False)\n",
    "\n",
    "print(list(data2.header))"
   ]
  }
 ],
 "metadata": {
  "kernelspec": {
   "display_name": "Python 3.10.6 ('Kinkajou')",
   "language": "python",
   "name": "python3"
  },
  "language_info": {
   "codemirror_mode": {
    "name": "ipython",
    "version": 3
   },
   "file_extension": ".py",
   "mimetype": "text/x-python",
   "name": "python",
   "nbconvert_exporter": "python",
   "pygments_lexer": "ipython3",
   "version": "3.10.6"
  },
  "orig_nbformat": 4,
  "vscode": {
   "interpreter": {
    "hash": "a05f41e4c7ffb457a7c7220a3eeba85b1d7941ebdbf6299862ab022d1f7f2e20"
   }
  }
 },
 "nbformat": 4,
 "nbformat_minor": 2
}
