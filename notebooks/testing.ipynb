{
 "cells": [
  {
   "cell_type": "code",
   "execution_count": 1,
   "metadata": {},
   "outputs": [],
   "source": [
    "import kinkajou as kj"
   ]
  },
  {
   "cell_type": "code",
   "execution_count": 2,
   "metadata": {},
   "outputs": [],
   "source": []
  },
  {
   "cell_type": "code",
   "execution_count": 3,
   "metadata": {},
   "outputs": [
    {
     "ename": "CagingError",
     "evalue": "Supplied Object could not be caged",
     "output_type": "error",
     "traceback": [
      "\u001b[1;31m---------------------------------------------------------------------------\u001b[0m",
      "\u001b[1;31mCagingError\u001b[0m                               Traceback (most recent call last)",
      "\u001b[1;32md:\\SCHOOL\\INF405\\Assignment Two\\Kinkajou\\notebooks\\testing.ipynb Cell 3\u001b[0m in \u001b[0;36m<cell line: 1>\u001b[1;34m()\u001b[0m\n\u001b[1;32m----> <a href='vscode-notebook-cell:/d%3A/SCHOOL/INF405/Assignment%20Two/Kinkajou/notebooks/testing.ipynb#W2sZmlsZQ%3D%3D?line=0'>1</a>\u001b[0m \u001b[39mraise\u001b[39;00m CagingError\n",
      "\u001b[1;31mCagingError\u001b[0m: Supplied Object could not be caged"
     ]
    }
   ],
   "source": [
    "raise kj.CagingError"
   ]
  }
 ],
 "metadata": {
  "kernelspec": {
   "display_name": "Python 3.10.6 ('Kinkajou')",
   "language": "python",
   "name": "python3"
  },
  "language_info": {
   "codemirror_mode": {
    "name": "ipython",
    "version": 3
   },
   "file_extension": ".py",
   "mimetype": "text/x-python",
   "name": "python",
   "nbconvert_exporter": "python",
   "pygments_lexer": "ipython3",
   "version": "3.10.6"
  },
  "orig_nbformat": 4,
  "vscode": {
   "interpreter": {
    "hash": "a05f41e4c7ffb457a7c7220a3eeba85b1d7941ebdbf6299862ab022d1f7f2e20"
   }
  }
 },
 "nbformat": 4,
 "nbformat_minor": 2
}
