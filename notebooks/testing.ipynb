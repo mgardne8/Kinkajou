{
 "cells": [
  {
   "cell_type": "code",
   "execution_count": 1,
   "metadata": {},
   "outputs": [],
   "source": [
    "import kinkajou as kj"
   ]
  },
  {
   "cell_type": "code",
   "execution_count": 2,
   "metadata": {},
   "outputs": [
    {
     "name": "stdout",
     "output_type": "stream",
     "text": [
      "['State', '2004-05', '2005-06', '2006-07', '  2007-08 ', '2008-09', '2009-10', '2010-11', '2011-12', '2012-13', '2013-14', '2014-15', '2015-16']\n",
      "['Alabama', '$5,683 ', '$5,841 ', '$5,753 ', '$6,008 ', '$6,475 ', '$7,189 ', '$8,071 ', '$8,452 ', '$9,098 ', '$9,359 ', '$9,496 ', '$9,751 ']\n"
     ]
    }
   ],
   "source": [
    "data = kj.cage_csv('../data/us_avg_tuition.csv',encoding=\"utf-8-sig\")"
   ]
  },
  {
   "cell_type": "code",
   "execution_count": 3,
   "metadata": {},
   "outputs": [
    {
     "data": {
      "text/plain": [
       "['State',\n",
       " '2004-05',\n",
       " '2005-06',\n",
       " '2006-07',\n",
       " '  2007-08 ',\n",
       " '2008-09',\n",
       " '2009-10',\n",
       " '2010-11',\n",
       " '2011-12',\n",
       " '2012-13',\n",
       " '2013-14',\n",
       " '2014-15',\n",
       " '2015-16']"
      ]
     },
     "execution_count": 3,
     "metadata": {},
     "output_type": "execute_result"
    }
   ],
   "source": [
    "data.header"
   ]
  },
  {
   "cell_type": "code",
   "execution_count": 5,
   "metadata": {},
   "outputs": [
    {
     "data": {
      "text/plain": [
       "<generator object DataCage.column.<locals>.<genexpr> at 0x000001A6F4394BA0>"
      ]
     },
     "execution_count": 5,
     "metadata": {},
     "output_type": "execute_result"
    }
   ],
   "source": [
    "data.column(0)"
   ]
  },
  {
   "cell_type": "code",
   "execution_count": 6,
   "metadata": {},
   "outputs": [],
   "source": [
    "def insert_f(a): return \"f\" + a"
   ]
  },
  {
   "cell_type": "code",
   "execution_count": 8,
   "metadata": {},
   "outputs": [
    {
     "name": "stdout",
     "output_type": "stream",
     "text": [
      "<generator object DataCage.modify_column.<locals>.<genexpr> at 0x000001A6F4395620>\n"
     ]
    }
   ],
   "source": [
    "data.modify_column(0,insert_f)"
   ]
  },
  {
   "cell_type": "code",
   "execution_count": null,
   "metadata": {},
   "outputs": [],
   "source": []
  }
 ],
 "metadata": {
  "kernelspec": {
   "display_name": "Python 3.10.6 ('Kinkajou')",
   "language": "python",
   "name": "python3"
  },
  "language_info": {
   "codemirror_mode": {
    "name": "ipython",
    "version": 3
   },
   "file_extension": ".py",
   "mimetype": "text/x-python",
   "name": "python",
   "nbconvert_exporter": "python",
   "pygments_lexer": "ipython3",
   "version": "3.10.6"
  },
  "orig_nbformat": 4,
  "vscode": {
   "interpreter": {
    "hash": "a05f41e4c7ffb457a7c7220a3eeba85b1d7941ebdbf6299862ab022d1f7f2e20"
   }
  }
 },
 "nbformat": 4,
 "nbformat_minor": 2
}
